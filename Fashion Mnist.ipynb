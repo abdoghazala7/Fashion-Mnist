{
 "cells": [
  {
   "cell_type": "code",
   "execution_count": 68,
   "id": "929ac3da",
   "metadata": {
    "id": "929ac3da"
   },
   "outputs": [],
   "source": [
    "import tensorflow as tf\n",
    "import numpy as np\n",
    "import pandas as pd\n",
    "import matplotlib.pyplot as plt\n",
    "from colorama import Fore\n",
    "from pathlib import Path"
   ]
  },
  {
   "cell_type": "code",
   "execution_count": 31,
   "id": "159586f5",
   "metadata": {},
   "outputs": [],
   "source": [
    "import warnings\n",
    "warnings.simplefilter(action='ignore')"
   ]
  },
  {
   "cell_type": "markdown",
   "id": "8a6ccbb9",
   "metadata": {
    "id": "8a6ccbb9"
   },
   "source": [
    "### Get and prepare Data"
   ]
  },
  {
   "cell_type": "code",
   "execution_count": 10,
   "id": "760bb0c1",
   "metadata": {
    "id": "760bb0c1"
   },
   "outputs": [],
   "source": [
    "fashion_mnist = tf.keras.datasets.fashion_mnist.load_data()\n",
    "(X_train_full, y_train_full), (X_test, y_test) = fashion_mnist\n",
    "X_train, y_train = X_train_full[:-5000], y_train_full[:-5000]\n",
    "X_valid, y_valid = X_train_full[-5000:], y_train_full[-5000:]"
   ]
  },
  {
   "cell_type": "code",
   "execution_count": 11,
   "id": "9d204af9",
   "metadata": {
    "colab": {
     "base_uri": "https://localhost:8080/"
    },
    "id": "9d204af9",
    "outputId": "526aebcb-1de6-443e-a0b6-8d02fde618ad"
   },
   "outputs": [
    {
     "data": {
      "text/plain": [
       "((55000, 28, 28), (5000, 28, 28), (10000, 28, 28))"
      ]
     },
     "execution_count": 11,
     "metadata": {},
     "output_type": "execute_result"
    }
   ],
   "source": [
    "X_train.shape , X_valid.shape , X_test.shape"
   ]
  },
  {
   "cell_type": "code",
   "execution_count": 12,
   "id": "a66597a7",
   "metadata": {
    "colab": {
     "base_uri": "https://localhost:8080/"
    },
    "id": "a66597a7",
    "outputId": "8d82a9ae-01ee-4b41-a5d5-fe385b6cb4d1"
   },
   "outputs": [
    {
     "data": {
      "text/plain": [
       "numpy.ndarray"
      ]
     },
     "execution_count": 12,
     "metadata": {},
     "output_type": "execute_result"
    }
   ],
   "source": [
    "type(X_train)"
   ]
  },
  {
   "cell_type": "code",
   "execution_count": 13,
   "id": "34087b84",
   "metadata": {
    "colab": {
     "base_uri": "https://localhost:8080/"
    },
    "id": "34087b84",
    "outputId": "3942240e-c73e-46e3-9738-91351de89be2"
   },
   "outputs": [
    {
     "data": {
      "text/plain": [
       "array([[[0, 0, 0, ..., 0, 0, 0],\n",
       "        [0, 0, 0, ..., 0, 0, 0],\n",
       "        [0, 0, 0, ..., 0, 0, 0],\n",
       "        ...,\n",
       "        [0, 0, 0, ..., 0, 0, 0],\n",
       "        [0, 0, 0, ..., 0, 0, 0],\n",
       "        [0, 0, 0, ..., 0, 0, 0]],\n",
       "\n",
       "       [[0, 0, 0, ..., 0, 0, 0],\n",
       "        [0, 0, 0, ..., 0, 0, 0],\n",
       "        [0, 0, 0, ..., 0, 0, 0],\n",
       "        ...,\n",
       "        [0, 0, 0, ..., 0, 0, 0],\n",
       "        [0, 0, 0, ..., 0, 0, 0],\n",
       "        [0, 0, 0, ..., 0, 0, 0]],\n",
       "\n",
       "       [[0, 0, 0, ..., 0, 0, 0],\n",
       "        [0, 0, 0, ..., 0, 0, 0],\n",
       "        [0, 0, 0, ..., 0, 0, 0],\n",
       "        ...,\n",
       "        [0, 0, 0, ..., 0, 0, 0],\n",
       "        [0, 0, 0, ..., 0, 0, 0],\n",
       "        [0, 0, 0, ..., 0, 0, 0]],\n",
       "\n",
       "       ...,\n",
       "\n",
       "       [[0, 0, 0, ..., 0, 0, 0],\n",
       "        [0, 0, 0, ..., 0, 0, 0],\n",
       "        [0, 0, 0, ..., 0, 0, 0],\n",
       "        ...,\n",
       "        [0, 0, 0, ..., 0, 0, 0],\n",
       "        [0, 0, 0, ..., 0, 0, 0],\n",
       "        [0, 0, 0, ..., 0, 0, 0]],\n",
       "\n",
       "       [[0, 0, 0, ..., 0, 0, 0],\n",
       "        [1, 0, 0, ..., 0, 0, 0],\n",
       "        [0, 0, 0, ..., 0, 0, 0],\n",
       "        ...,\n",
       "        [0, 0, 0, ..., 0, 0, 0],\n",
       "        [0, 0, 0, ..., 0, 0, 0],\n",
       "        [0, 0, 0, ..., 0, 0, 0]],\n",
       "\n",
       "       [[0, 0, 0, ..., 0, 0, 0],\n",
       "        [0, 0, 0, ..., 0, 0, 0],\n",
       "        [0, 0, 0, ..., 0, 0, 0],\n",
       "        ...,\n",
       "        [0, 0, 0, ..., 0, 0, 0],\n",
       "        [0, 0, 0, ..., 0, 0, 0],\n",
       "        [0, 0, 0, ..., 0, 0, 0]]], dtype=uint8)"
      ]
     },
     "execution_count": 13,
     "metadata": {},
     "output_type": "execute_result"
    }
   ],
   "source": [
    "X_train"
   ]
  },
  {
   "cell_type": "code",
   "execution_count": 14,
   "id": "c074d5b2",
   "metadata": {
    "colab": {
     "base_uri": "https://localhost:8080/"
    },
    "id": "c074d5b2",
    "outputId": "339c40da-278f-433c-f700-6cd7889fdf35"
   },
   "outputs": [
    {
     "data": {
      "text/plain": [
       "(255, 0)"
      ]
     },
     "execution_count": 14,
     "metadata": {},
     "output_type": "execute_result"
    }
   ],
   "source": [
    "np.max(X_train), np.min(X_train)"
   ]
  },
  {
   "cell_type": "code",
   "execution_count": 15,
   "id": "5d75a45b",
   "metadata": {
    "colab": {
     "base_uri": "https://localhost:8080/"
    },
    "id": "5d75a45b",
    "outputId": "95fe8517-a3c8-4a0b-b1c7-0a83403195bd"
   },
   "outputs": [
    {
     "data": {
      "text/plain": [
       "array([0, 1, 2, 3, 4, 5, 6, 7, 8, 9], dtype=uint8)"
      ]
     },
     "execution_count": 15,
     "metadata": {},
     "output_type": "execute_result"
    }
   ],
   "source": [
    "np.unique(y_train)"
   ]
  },
  {
   "cell_type": "code",
   "execution_count": 16,
   "id": "88927daf",
   "metadata": {
    "colab": {
     "base_uri": "https://localhost:8080/"
    },
    "id": "88927daf",
    "outputId": "250cc904-425a-472e-e98b-b22c98dff631"
   },
   "outputs": [
    {
     "name": "stdout",
     "output_type": "stream",
     "text": [
      "[0 1 2 3 4 5 6 7 8 9]\n",
      "[0 1 2 3 4 5 6 7 8 9]\n",
      "[0 1 2 3 4 5 6 7 8 9]\n"
     ]
    }
   ],
   "source": [
    "print(np.unique(y_train))\n",
    "print(np.unique(y_valid))\n",
    "print(np.unique(y_test))"
   ]
  },
  {
   "cell_type": "markdown",
   "id": "241a314b",
   "metadata": {},
   "source": [
    "<hr>"
   ]
  },
  {
   "cell_type": "code",
   "execution_count": 17,
   "id": "b8f3de14",
   "metadata": {
    "id": "b8f3de14"
   },
   "outputs": [],
   "source": [
    "class_names = [\"T-shirt/top\", \"Trouser\", \"Pullover\", \"Dress\", \"Coat\",\n",
    "               \"Sandal\", \"Shirt\", \"Sneaker\", \"Bag\", \"Ankle boot\"]"
   ]
  },
  {
   "cell_type": "code",
   "execution_count": 20,
   "id": "0522f1e2",
   "metadata": {
    "colab": {
     "base_uri": "https://localhost:8080/",
     "height": 428
    },
    "id": "0522f1e2",
    "outputId": "7d674f10-201b-4c8b-cd5d-1bcd911aab70"
   },
   "outputs": [
    {
     "data": {
      "image/png": "[encoded data removed]",
      "text/plain": [
       "<Figure size 640x480 with 1 Axes>"
      ]
     },
     "metadata": {},
     "output_type": "display_data"
    }
   ],
   "source": [
    "plt.imshow(X_train[0], cmap = \"gray\")\n",
    "plt.title(class_names[y_train[0]])\n",
    "plt.axis(\"off\")\n",
    "plt.show()"
   ]
  },
  {
   "cell_type": "code",
   "execution_count": 25,
   "id": "7502ac13",
   "metadata": {
    "colab": {
     "base_uri": "https://localhost:8080/",
     "height": 574
    },
    "id": "7502ac13",
    "outputId": "253659b1-701b-42ad-ff20-e41e5cc9a018"
   },
   "outputs": [
    {
     "data": {
      "image/png": "[encoded data removed]",
      "text/plain": [
       "<Figure size 700x700 with 20 Axes>"
      ]
     },
     "metadata": {},
     "output_type": "display_data"
    }
   ],
   "source": [
    "fig, axis = plt.subplots(4, 5, figsize = (7,7))\n",
    "axis = axis.flatten()\n",
    "\n",
    "for i, ax in enumerate(axis):\n",
    "  ax.imshow(X_train[i], cmap = \"gray\")\n",
    "  ax.set_title(class_names[y_train[i]])\n",
    "  ax.axis(\"off\")"
   ]
  },
  {
   "cell_type": "markdown",
   "id": "ef7b20f3",
   "metadata": {
    "id": "ef7b20f3"
   },
   "source": [
    "# Build Model"
   ]
  },
  {
   "cell_type": "code",
   "execution_count": 27,
   "id": "98870228",
   "metadata": {
    "id": "98870228"
   },
   "outputs": [
    {
     "name": "stdout",
     "output_type": "stream",
     "text": [
      "WARNING:tensorflow:From C:\\Users\\BoDa\\anaconda3\\Lib\\site-packages\\keras\\src\\backend.py:873: The name tf.get_default_graph is deprecated. Please use tf.compat.v1.get_default_graph instead.\n",
      "\n"
     ]
    }
   ],
   "source": [
    "model = tf.keras.Sequential([\n",
    "     tf.keras.layers.Rescaling(scale = 1/255, input_shape = [28, 28]), # for scaling  , scale data is very important\n",
    "     tf.keras.layers.Flatten(),\n",
    "     tf.keras.layers.Dense(300, activation=\"relu\" ),\n",
    "     tf.keras.layers.Dense(100, activation=\"relu\"),\n",
    "     tf.keras.layers.Dense(10, activation=\"softmax\") ])"
   ]
  },
  {
   "cell_type": "code",
   "execution_count": 28,
   "id": "9ed8c79b",
   "metadata": {
    "colab": {
     "base_uri": "https://localhost:8080/"
    },
    "id": "9ed8c79b",
    "outputId": "ce312257-1a1b-4e84-cca8-6ade727ed5b1"
   },
   "outputs": [
    {
     "name": "stdout",
     "output_type": "stream",
     "text": [
      "Model: \"sequential\"\n",
      "_________________________________________________________________\n",
      " Layer (type)                Output Shape              Param #   \n",
      "=================================================================\n",
      " rescaling (Rescaling)       (None, 28, 28)            0         \n",
      "                                                                 \n",
      " flatten (Flatten)           (None, 784)               0         \n",
      "                                                                 \n",
      " dense (Dense)               (None, 300)               235500    \n",
      "                                                                 \n",
      " dense_1 (Dense)             (None, 100)               30100     \n",
      "                                                                 \n",
      " dense_2 (Dense)             (None, 10)                1010      \n",
      "                                                                 \n",
      "=================================================================\n",
      "Total params: 266610 (1.02 MB)\n",
      "Trainable params: 266610 (1.02 MB)\n",
      "Non-trainable params: 0 (0.00 Byte)\n",
      "_________________________________________________________________\n"
     ]
    }
   ],
   "source": [
    "model.summary()"
   ]
  },
  {
   "cell_type": "code",
   "execution_count": 29,
   "id": "68c8c20a",
   "metadata": {
    "id": "68c8c20a"
   },
   "outputs": [
    {
     "name": "stdout",
     "output_type": "stream",
     "text": [
      "WARNING:tensorflow:From C:\\Users\\BoDa\\anaconda3\\Lib\\site-packages\\keras\\src\\optimizers\\__init__.py:309: The name tf.train.Optimizer is deprecated. Please use tf.compat.v1.train.Optimizer instead.\n",
      "\n"
     ]
    }
   ],
   "source": [
    "model.compile(loss=\"sparse_categorical_crossentropy\", optimizer=\"sgd\"\n",
    "              , metrics=[\"accuracy\"])"
   ]
  },
  {
   "cell_type": "code",
   "execution_count": 30,
   "id": "b6dfd979",
   "metadata": {
    "colab": {
     "base_uri": "https://localhost:8080/"
    },
    "id": "b6dfd979",
    "outputId": "132c0ef9-c82b-499b-8ae0-b6b4c009a38d"
   },
   "outputs": [
    {
     "name": "stdout",
     "output_type": "stream",
     "text": [
      "Epoch 1/30\n",
      "WARNING:tensorflow:From C:\\Users\\BoDa\\anaconda3\\Lib\\site-packages\\keras\\src\\utils\\tf_utils.py:492: The name tf.ragged.RaggedTensorValue is deprecated. Please use tf.compat.v1.ragged.RaggedTensorValue instead.\n",
      "\n",
      "WARNING:tensorflow:From C:\\Users\\BoDa\\anaconda3\\Lib\\site-packages\\keras\\src\\engine\\base_layer_utils.py:384: The name tf.executing_eagerly_outside_functions is deprecated. Please use tf.compat.v1.executing_eagerly_outside_functions instead.\n",
      "\n",
      "1719/1719 [==============================] - 4s 2ms/step - loss: 0.6912 - accuracy: 0.7752 - val_loss: 0.5148 - val_accuracy: 0.8218\n",
      "Epoch 2/30\n",
      "1719/1719 [==============================] - 3s 2ms/step - loss: 0.4818 - accuracy: 0.8329 - val_loss: 0.4454 - val_accuracy: 0.8450\n",
      "Epoch 3/30\n",
      "1719/1719 [==============================] - 4s 2ms/step - loss: 0.4384 - accuracy: 0.8468 - val_loss: 0.4469 - val_accuracy: 0.8416\n",
      "Epoch 4/30\n",
      "1719/1719 [==============================] - 4s 2ms/step - loss: 0.4128 - accuracy: 0.8555 - val_loss: 0.4172 - val_accuracy: 0.8508\n",
      "Epoch 5/30\n",
      "1719/1719 [==============================] - 3s 2ms/step - loss: 0.3913 - accuracy: 0.8620 - val_loss: 0.4007 - val_accuracy: 0.8594\n",
      "Epoch 6/30\n",
      "1719/1719 [==============================] - 4s 2ms/step - loss: 0.3759 - accuracy: 0.8669 - val_loss: 0.3759 - val_accuracy: 0.8688\n",
      "Epoch 7/30\n",
      "1719/1719 [==============================] - 4s 2ms/step - loss: 0.3631 - accuracy: 0.8713 - val_loss: 0.3644 - val_accuracy: 0.8700\n",
      "Epoch 8/30\n",
      "1719/1719 [==============================] - 4s 2ms/step - loss: 0.3525 - accuracy: 0.8756 - val_loss: 0.3689 - val_accuracy: 0.8668\n",
      "Epoch 9/30\n",
      "1719/1719 [==============================] - 4s 2ms/step - loss: 0.3420 - accuracy: 0.8791 - val_loss: 0.3499 - val_accuracy: 0.8748\n",
      "Epoch 10/30\n",
      "1719/1719 [==============================] - 4s 2ms/step - loss: 0.3323 - accuracy: 0.8817 - val_loss: 0.3579 - val_accuracy: 0.8728\n",
      "Epoch 11/30\n",
      "1719/1719 [==============================] - 4s 2ms/step - loss: 0.3227 - accuracy: 0.8845 - val_loss: 0.3527 - val_accuracy: 0.8688\n",
      "Epoch 12/30\n",
      "1719/1719 [==============================] - 4s 2ms/step - loss: 0.3153 - accuracy: 0.8871 - val_loss: 0.3347 - val_accuracy: 0.8762\n",
      "Epoch 13/30\n",
      "1719/1719 [==============================] - 3s 2ms/step - loss: 0.3082 - accuracy: 0.8900 - val_loss: 0.3456 - val_accuracy: 0.8776\n",
      "Epoch 14/30\n",
      "1719/1719 [==============================] - 4s 2ms/step - loss: 0.3022 - accuracy: 0.8909 - val_loss: 0.3418 - val_accuracy: 0.8752\n",
      "Epoch 15/30\n",
      "1719/1719 [==============================] - 3s 2ms/step - loss: 0.2953 - accuracy: 0.8937 - val_loss: 0.3463 - val_accuracy: 0.8766\n",
      "Epoch 16/30\n",
      "1719/1719 [==============================] - 4s 2ms/step - loss: 0.2892 - accuracy: 0.8962 - val_loss: 0.3681 - val_accuracy: 0.8702\n",
      "Epoch 17/30\n",
      "1719/1719 [==============================] - 4s 2ms/step - loss: 0.2825 - accuracy: 0.8987 - val_loss: 0.3286 - val_accuracy: 0.8792\n",
      "Epoch 18/30\n",
      "1719/1719 [==============================] - 4s 2ms/step - loss: 0.2779 - accuracy: 0.8999 - val_loss: 0.3298 - val_accuracy: 0.8778\n",
      "Epoch 19/30\n",
      "1719/1719 [==============================] - 4s 2ms/step - loss: 0.2728 - accuracy: 0.9017 - val_loss: 0.3403 - val_accuracy: 0.8786\n",
      "Epoch 20/30\n",
      "1719/1719 [==============================] - 4s 2ms/step - loss: 0.2675 - accuracy: 0.9038 - val_loss: 0.3324 - val_accuracy: 0.8788\n",
      "Epoch 21/30\n",
      "1719/1719 [==============================] - 3s 2ms/step - loss: 0.2618 - accuracy: 0.9057 - val_loss: 0.3252 - val_accuracy: 0.8828\n",
      "Epoch 22/30\n",
      "1719/1719 [==============================] - 3s 2ms/step - loss: 0.2577 - accuracy: 0.9059 - val_loss: 0.3267 - val_accuracy: 0.8834\n",
      "Epoch 23/30\n",
      "1719/1719 [==============================] - 4s 2ms/step - loss: 0.2537 - accuracy: 0.9091 - val_loss: 0.3209 - val_accuracy: 0.8830\n",
      "Epoch 24/30\n",
      "1719/1719 [==============================] - 4s 2ms/step - loss: 0.2486 - accuracy: 0.9094 - val_loss: 0.3228 - val_accuracy: 0.8802\n",
      "Epoch 25/30\n",
      "1719/1719 [==============================] - 4s 2ms/step - loss: 0.2445 - accuracy: 0.9114 - val_loss: 0.3181 - val_accuracy: 0.8850\n",
      "Epoch 26/30\n",
      "1719/1719 [==============================] - 3s 2ms/step - loss: 0.2412 - accuracy: 0.9140 - val_loss: 0.3178 - val_accuracy: 0.8832\n",
      "Epoch 27/30\n",
      "1719/1719 [==============================] - 3s 2ms/step - loss: 0.2376 - accuracy: 0.9140 - val_loss: 0.3274 - val_accuracy: 0.8810\n",
      "Epoch 28/30\n",
      "1719/1719 [==============================] - 3s 2ms/step - loss: 0.2324 - accuracy: 0.9170 - val_loss: 0.3168 - val_accuracy: 0.8888\n",
      "Epoch 29/30\n",
      "1719/1719 [==============================] - 3s 2ms/step - loss: 0.2304 - accuracy: 0.9166 - val_loss: 0.3150 - val_accuracy: 0.8844\n",
      "Epoch 30/30\n",
      "1719/1719 [==============================] - 3s 2ms/step - loss: 0.2250 - accuracy: 0.9195 - val_loss: 0.3048 - val_accuracy: 0.8910\n"
     ]
    }
   ],
   "source": [
    "history = model.fit(X_train, y_train, epochs=30, validation_data=(X_valid, y_valid))"
   ]
  },
  {
   "cell_type": "code",
   "execution_count": 34,
   "id": "06d2447b",
   "metadata": {
    "colab": {
     "base_uri": "https://localhost:8080/",
     "height": 990
    },
    "id": "06d2447b",
    "outputId": "5cdbda8e-3bb7-4fed-ae64-cf79cbd43e65"
   },
   "outputs": [
    {
     "data": {
      "text/html": [
       "<div>\n",
       "<style scoped>\n",
       "    .dataframe tbody tr th:only-of-type {\n",
       "        vertical-align: middle;\n",
       "    }\n",
       "\n",
       "    .dataframe tbody tr th {\n",
       "        vertical-align: top;\n",
       "    }\n",
       "\n",
       "    .dataframe thead th {\n",
       "        text-align: right;\n",
       "    }\n",
       "</style>\n",
       "<table border=\"1\" class=\"dataframe\">\n",
       "  <thead>\n",
       "    <tr style=\"text-align: right;\">\n",
       "      <th></th>\n",
       "      <th>loss</th>\n",
       "      <th>accuracy</th>\n",
       "      <th>val_loss</th>\n",
       "      <th>val_accuracy</th>\n",
       "    </tr>\n",
       "  </thead>\n",
       "  <tbody>\n",
       "    <tr>\n",
       "      <th>0</th>\n",
       "      <td>0.691218</td>\n",
       "      <td>0.775164</td>\n",
       "      <td>0.514803</td>\n",
       "      <td>0.8218</td>\n",
       "    </tr>\n",
       "    <tr>\n",
       "      <th>1</th>\n",
       "      <td>0.481845</td>\n",
       "      <td>0.832891</td>\n",
       "      <td>0.445367</td>\n",
       "      <td>0.8450</td>\n",
       "    </tr>\n",
       "    <tr>\n",
       "      <th>2</th>\n",
       "      <td>0.438396</td>\n",
       "      <td>0.846764</td>\n",
       "      <td>0.446902</td>\n",
       "      <td>0.8416</td>\n",
       "    </tr>\n",
       "    <tr>\n",
       "      <th>3</th>\n",
       "      <td>0.412794</td>\n",
       "      <td>0.855491</td>\n",
       "      <td>0.417197</td>\n",
       "      <td>0.8508</td>\n",
       "    </tr>\n",
       "    <tr>\n",
       "      <th>4</th>\n",
       "      <td>0.391297</td>\n",
       "      <td>0.862000</td>\n",
       "      <td>0.400660</td>\n",
       "      <td>0.8594</td>\n",
       "    </tr>\n",
       "    <tr>\n",
       "      <th>5</th>\n",
       "      <td>0.375894</td>\n",
       "      <td>0.866855</td>\n",
       "      <td>0.375913</td>\n",
       "      <td>0.8688</td>\n",
       "    </tr>\n",
       "    <tr>\n",
       "      <th>6</th>\n",
       "      <td>0.363105</td>\n",
       "      <td>0.871345</td>\n",
       "      <td>0.364407</td>\n",
       "      <td>0.8700</td>\n",
       "    </tr>\n",
       "    <tr>\n",
       "      <th>7</th>\n",
       "      <td>0.352499</td>\n",
       "      <td>0.875564</td>\n",
       "      <td>0.368863</td>\n",
       "      <td>0.8668</td>\n",
       "    </tr>\n",
       "    <tr>\n",
       "      <th>8</th>\n",
       "      <td>0.341950</td>\n",
       "      <td>0.879073</td>\n",
       "      <td>0.349909</td>\n",
       "      <td>0.8748</td>\n",
       "    </tr>\n",
       "    <tr>\n",
       "      <th>9</th>\n",
       "      <td>0.332313</td>\n",
       "      <td>0.881691</td>\n",
       "      <td>0.357918</td>\n",
       "      <td>0.8728</td>\n",
       "    </tr>\n",
       "    <tr>\n",
       "      <th>10</th>\n",
       "      <td>0.322660</td>\n",
       "      <td>0.884491</td>\n",
       "      <td>0.352704</td>\n",
       "      <td>0.8688</td>\n",
       "    </tr>\n",
       "    <tr>\n",
       "      <th>11</th>\n",
       "      <td>0.315273</td>\n",
       "      <td>0.887055</td>\n",
       "      <td>0.334671</td>\n",
       "      <td>0.8762</td>\n",
       "    </tr>\n",
       "    <tr>\n",
       "      <th>12</th>\n",
       "      <td>0.308201</td>\n",
       "      <td>0.889964</td>\n",
       "      <td>0.345646</td>\n",
       "      <td>0.8776</td>\n",
       "    </tr>\n",
       "    <tr>\n",
       "      <th>13</th>\n",
       "      <td>0.302215</td>\n",
       "      <td>0.890927</td>\n",
       "      <td>0.341813</td>\n",
       "      <td>0.8752</td>\n",
       "    </tr>\n",
       "    <tr>\n",
       "      <th>14</th>\n",
       "      <td>0.295283</td>\n",
       "      <td>0.893691</td>\n",
       "      <td>0.346266</td>\n",
       "      <td>0.8766</td>\n",
       "    </tr>\n",
       "    <tr>\n",
       "      <th>15</th>\n",
       "      <td>0.289159</td>\n",
       "      <td>0.896236</td>\n",
       "      <td>0.368096</td>\n",
       "      <td>0.8702</td>\n",
       "    </tr>\n",
       "    <tr>\n",
       "      <th>16</th>\n",
       "      <td>0.282457</td>\n",
       "      <td>0.898673</td>\n",
       "      <td>0.328623</td>\n",
       "      <td>0.8792</td>\n",
       "    </tr>\n",
       "    <tr>\n",
       "      <th>17</th>\n",
       "      <td>0.277879</td>\n",
       "      <td>0.899891</td>\n",
       "      <td>0.329846</td>\n",
       "      <td>0.8778</td>\n",
       "    </tr>\n",
       "    <tr>\n",
       "      <th>18</th>\n",
       "      <td>0.272812</td>\n",
       "      <td>0.901655</td>\n",
       "      <td>0.340311</td>\n",
       "      <td>0.8786</td>\n",
       "    </tr>\n",
       "    <tr>\n",
       "      <th>19</th>\n",
       "      <td>0.267453</td>\n",
       "      <td>0.903818</td>\n",
       "      <td>0.332364</td>\n",
       "      <td>0.8788</td>\n",
       "    </tr>\n",
       "    <tr>\n",
       "      <th>20</th>\n",
       "      <td>0.261816</td>\n",
       "      <td>0.905745</td>\n",
       "      <td>0.325165</td>\n",
       "      <td>0.8828</td>\n",
       "    </tr>\n",
       "    <tr>\n",
       "      <th>21</th>\n",
       "      <td>0.257653</td>\n",
       "      <td>0.905909</td>\n",
       "      <td>0.326685</td>\n",
       "      <td>0.8834</td>\n",
       "    </tr>\n",
       "    <tr>\n",
       "      <th>22</th>\n",
       "      <td>0.253696</td>\n",
       "      <td>0.909091</td>\n",
       "      <td>0.320858</td>\n",
       "      <td>0.8830</td>\n",
       "    </tr>\n",
       "    <tr>\n",
       "      <th>23</th>\n",
       "      <td>0.248626</td>\n",
       "      <td>0.909436</td>\n",
       "      <td>0.322791</td>\n",
       "      <td>0.8802</td>\n",
       "    </tr>\n",
       "    <tr>\n",
       "      <th>24</th>\n",
       "      <td>0.244480</td>\n",
       "      <td>0.911382</td>\n",
       "      <td>0.318053</td>\n",
       "      <td>0.8850</td>\n",
       "    </tr>\n",
       "    <tr>\n",
       "      <th>25</th>\n",
       "      <td>0.241184</td>\n",
       "      <td>0.913982</td>\n",
       "      <td>0.317843</td>\n",
       "      <td>0.8832</td>\n",
       "    </tr>\n",
       "    <tr>\n",
       "      <th>26</th>\n",
       "      <td>0.237600</td>\n",
       "      <td>0.914036</td>\n",
       "      <td>0.327415</td>\n",
       "      <td>0.8810</td>\n",
       "    </tr>\n",
       "    <tr>\n",
       "      <th>27</th>\n",
       "      <td>0.232393</td>\n",
       "      <td>0.916982</td>\n",
       "      <td>0.316762</td>\n",
       "      <td>0.8888</td>\n",
       "    </tr>\n",
       "    <tr>\n",
       "      <th>28</th>\n",
       "      <td>0.230382</td>\n",
       "      <td>0.916618</td>\n",
       "      <td>0.314967</td>\n",
       "      <td>0.8844</td>\n",
       "    </tr>\n",
       "    <tr>\n",
       "      <th>29</th>\n",
       "      <td>0.224973</td>\n",
       "      <td>0.919527</td>\n",
       "      <td>0.304837</td>\n",
       "      <td>0.8910</td>\n",
       "    </tr>\n",
       "  </tbody>\n",
       "</table>\n",
       "</div>"
      ],
      "text/plain": [
       "        loss  accuracy  val_loss  val_accuracy\n",
       "0   0.691218  0.775164  0.514803        0.8218\n",
       "1   0.481845  0.832891  0.445367        0.8450\n",
       "2   0.438396  0.846764  0.446902        0.8416\n",
       "3   0.412794  0.855491  0.417197        0.8508\n",
       "4   0.391297  0.862000  0.400660        0.8594\n",
       "5   0.375894  0.866855  0.375913        0.8688\n",
       "6   0.363105  0.871345  0.364407        0.8700\n",
       "7   0.352499  0.875564  0.368863        0.8668\n",
       "8   0.341950  0.879073  0.349909        0.8748\n",
       "9   0.332313  0.881691  0.357918        0.8728\n",
       "10  0.322660  0.884491  0.352704        0.8688\n",
       "11  0.315273  0.887055  0.334671        0.8762\n",
       "12  0.308201  0.889964  0.345646        0.8776\n",
       "13  0.302215  0.890927  0.341813        0.8752\n",
       "14  0.295283  0.893691  0.346266        0.8766\n",
       "15  0.289159  0.896236  0.368096        0.8702\n",
       "16  0.282457  0.898673  0.328623        0.8792\n",
       "17  0.277879  0.899891  0.329846        0.8778\n",
       "18  0.272812  0.901655  0.340311        0.8786\n",
       "19  0.267453  0.903818  0.332364        0.8788\n",
       "20  0.261816  0.905745  0.325165        0.8828\n",
       "21  0.257653  0.905909  0.326685        0.8834\n",
       "22  0.253696  0.909091  0.320858        0.8830\n",
       "23  0.248626  0.909436  0.322791        0.8802\n",
       "24  0.244480  0.911382  0.318053        0.8850\n",
       "25  0.241184  0.913982  0.317843        0.8832\n",
       "26  0.237600  0.914036  0.327415        0.8810\n",
       "27  0.232393  0.916982  0.316762        0.8888\n",
       "28  0.230382  0.916618  0.314967        0.8844\n",
       "29  0.224973  0.919527  0.304837        0.8910"
      ]
     },
     "execution_count": 34,
     "metadata": {},
     "output_type": "execute_result"
    }
   ],
   "source": [
    "pd.DataFrame(history.history)"
   ]
  },
  {
   "cell_type": "code",
   "execution_count": 35,
   "id": "5257e0ed",
   "metadata": {
    "colab": {
     "base_uri": "https://localhost:8080/",
     "height": 470
    },
    "id": "5257e0ed",
    "outputId": "3375b151-5be4-4499-9915-0b0fb3b440e0"
   },
   "outputs": [
    {
     "data": {
      "image/png": "[encoded data removed]",
      "text/plain": [
       "<Figure size 800x500 with 1 Axes>"
      ]
     },
     "metadata": {},
     "output_type": "display_data"
    }
   ],
   "source": [
    "import matplotlib.pyplot as plt\n",
    "pd.DataFrame(history.history).plot( figsize=(8, 5), xlim=[0, 29], ylim=[0, 1], grid=True, xlabel=\"Epoch\", style=[\"r--\", \"r--.\", \"b-\", \"b-*\"])\n",
    "plt.show()\n"
   ]
  },
  {
   "cell_type": "code",
   "execution_count": 36,
   "id": "9c29fa77",
   "metadata": {
    "colab": {
     "base_uri": "https://localhost:8080/"
    },
    "id": "9c29fa77",
    "outputId": "0cbf9804-612a-48bd-d6bb-e2aaeb2240c8"
   },
   "outputs": [
    {
     "name": "stdout",
     "output_type": "stream",
     "text": [
      "10000/10000 [==============================] - 11s 1ms/step - loss: 0.3229 - accuracy: 0.8853\n"
     ]
    },
    {
     "data": {
      "text/plain": [
       "[0.32289955019950867, 0.8852999806404114]"
      ]
     },
     "execution_count": 36,
     "metadata": {},
     "output_type": "execute_result"
    }
   ],
   "source": [
    "model.evaluate(X_test, y_test , batch_size = 1)"
   ]
  },
  {
   "cell_type": "markdown",
   "id": "327f6c26",
   "metadata": {
    "id": "327f6c26"
   },
   "source": [
    "## Using the model to make predictions\n"
   ]
  },
  {
   "cell_type": "code",
   "execution_count": 37,
   "id": "db0c92de",
   "metadata": {
    "colab": {
     "base_uri": "https://localhost:8080/"
    },
    "id": "db0c92de",
    "outputId": "4b4dae12-d7d8-4fe8-b1aa-719b5fbaefe3"
   },
   "outputs": [
    {
     "name": "stdout",
     "output_type": "stream",
     "text": [
      "1/1 [==============================] - 0s 77ms/step\n"
     ]
    },
    {
     "data": {
      "text/plain": [
       "array([[0.  , 0.  , 0.  , 0.  , 0.  , 0.04, 0.  , 0.01, 0.  , 0.95],\n",
       "       [0.  , 0.  , 1.  , 0.  , 0.  , 0.  , 0.  , 0.  , 0.  , 0.  ],\n",
       "       [0.  , 1.  , 0.  , 0.  , 0.  , 0.  , 0.  , 0.  , 0.  , 0.  ]],\n",
       "      dtype=float32)"
      ]
     },
     "execution_count": 37,
     "metadata": {},
     "output_type": "execute_result"
    }
   ],
   "source": [
    "X_new = X_test[:3]\n",
    "y_proba = model.predict(X_new)\n",
    "y_proba.round(2)"
   ]
  },
  {
   "cell_type": "code",
   "execution_count": 39,
   "id": "1bb87581",
   "metadata": {
    "colab": {
     "base_uri": "https://localhost:8080/"
    },
    "id": "1bb87581",
    "outputId": "25d4cb33-fe17-43b5-99da-95159e717a22"
   },
   "outputs": [
    {
     "data": {
      "text/plain": [
       "array([9, 2, 1], dtype=int64)"
      ]
     },
     "execution_count": 39,
     "metadata": {},
     "output_type": "execute_result"
    }
   ],
   "source": [
    "y_pred = y_proba.argmax(axis=-1)\n",
    "y_pred"
   ]
  },
  {
   "cell_type": "code",
   "execution_count": 48,
   "id": "60f25c0f",
   "metadata": {
    "colab": {
     "base_uri": "https://localhost:8080/"
    },
    "id": "60f25c0f",
    "outputId": "90a4ed0c-4bfe-47cd-fa0e-6a9004824dfa"
   },
   "outputs": [
    {
     "name": "stdout",
     "output_type": "stream",
     "text": [
      "our predict\n",
      "\n",
      "\u001b[34m['Ankle boot' 'Pullover' 'Trouser']\n"
     ]
    }
   ],
   "source": [
    "print('our predict\\n')\n",
    "print(Fore.BLUE + str(np.array(class_names)[y_pred]))"
   ]
  },
  {
   "cell_type": "markdown",
   "id": "NgGNh054qaeg",
   "metadata": {
    "id": "NgGNh054qaeg"
   },
   "source": [
    "# tuning hyperparameters"
   ]
  },
  {
   "cell_type": "code",
   "execution_count": 53,
   "id": "6jbmfqcvrV7g",
   "metadata": {
    "id": "6jbmfqcvrV7g"
   },
   "outputs": [],
   "source": [
    "import keras_tuner as kt"
   ]
  },
  {
   "cell_type": "code",
   "execution_count": 59,
   "id": "WQiUtpNlBe1J",
   "metadata": {
    "id": "WQiUtpNlBe1J"
   },
   "outputs": [],
   "source": [
    "class MyClassificationHyperModel(kt.HyperModel):\n",
    "\n",
    "     def build(self, hp):\n",
    "    \n",
    "          n_hidden = hp.Int(\"n_hidden\", min_value=0, max_value=8, default=2)\n",
    "          n_neurons = hp.Int(\"n_neurons\", min_value=10, max_value=300)\n",
    "          learning_rate = hp.Float(\"learning_rate\", min_value=1e-4, max_value=1, sampling=\"log\")\n",
    "          optimizer = hp.Choice(\"optimizer\", values=[\"sgd\", \"adam\"])\n",
    "\n",
    "          if optimizer == \"sgd\": optimizer = tf.keras.optimizers.SGD(learning_rate=learning_rate)\n",
    "          else: optimizer = tf.keras.optimizers.Adam(learning_rate=learning_rate)\n",
    "\n",
    "          model = tf.keras.Sequential()\n",
    "          model.add(tf.keras.layers.Flatten())\n",
    "\n",
    "          for _ in range(n_hidden):\n",
    "\n",
    "              model.add(tf.keras.layers.Dense(n_neurons, activation=\"relu\"))\n",
    "\n",
    "          model.add(tf.keras.layers.Dense(10, activation=\"softmax\"))\n",
    "          model.compile(loss=\"sparse_categorical_crossentropy\", optimizer=optimizer, metrics=[\"accuracy\"])\n",
    "\n",
    "          return model\n",
    "\n",
    "     def fit(self, hp, model, X, y, **kwargs):\n",
    "        \n",
    "            if hp.Boolean(\"normalize\"):\n",
    "                norm_layer = tf.keras.layers.Normalization()\n",
    "                X = norm_layer(X)\n",
    "                \n",
    "            return model.fit(X, y, **kwargs)\n"
   ]
  },
  {
   "cell_type": "code",
   "execution_count": 61,
   "id": "WSU0swLxKVOE",
   "metadata": {
    "id": "WSU0swLxKVOE"
   },
   "outputs": [],
   "source": [
    "hyperband_tuner = kt.Hyperband( MyClassificationHyperModel(),\n",
    "                               objective=\"val_accuracy\", seed=42, max_epochs=10, factor=3,\n",
    "                                hyperband_iterations=2, overwrite=True,\n",
    "                                directory=\"my_fashion_mnist\", project_name=\"hyperband\")\n"
   ]
  },
  {
   "cell_type": "code",
   "execution_count": 62,
   "id": "ayHMf1kIKeYA",
   "metadata": {
    "colab": {
     "base_uri": "https://localhost:8080/"
    },
    "id": "ayHMf1kIKeYA",
    "outputId": "f7b52ece-2403-43b1-a650-410828b88aff"
   },
   "outputs": [
    {
     "name": "stdout",
     "output_type": "stream",
     "text": [
      "Trial 60 Complete [00h 00m 12s]\n",
      "val_accuracy: 0.10419999808073044\n",
      "\n",
      "Best val_accuracy So Far: 0.8751999735832214\n",
      "Total elapsed time: 00h 16m 04s\n"
     ]
    }
   ],
   "source": [
    "root_logdir = Path(hyperband_tuner.project_dir) / \"tensorboard\"\n",
    "tensorboard_cb = tf.keras.callbacks.TensorBoard(root_logdir)\n",
    "early_stopping_cb = tf.keras.callbacks.EarlyStopping(patience=3)\n",
    "\n",
    "hyperband_tuner.search(X_train, y_train, epochs=10, validation_data=(X_valid, y_valid), callbacks=[early_stopping_cb, tensorboard_cb])"
   ]
  },
  {
   "cell_type": "code",
   "execution_count": 69,
   "id": "z3jqORf6W-CH",
   "metadata": {
    "colab": {
     "base_uri": "https://localhost:8080/"
    },
    "id": "z3jqORf6W-CH",
    "outputId": "07c1b376-3614-469b-fba9-f3189bfc7258"
   },
   "outputs": [
    {
     "name": "stdout",
     "output_type": "stream",
     "text": [
      "Trial 0054 summary\n",
      "Hyperparameters:\n",
      "n_hidden: 5\n",
      "n_neurons: 125\n",
      "learning_rate: 0.0004060552513069895\n",
      "optimizer: adam\n",
      "normalize: False\n",
      "tuner/epochs: 10\n",
      "tuner/initial_epoch: 4\n",
      "tuner/bracket: 1\n",
      "tuner/round: 1\n",
      "tuner/trial_id: 0048\n",
      "Score: 0.8751999735832214\n"
     ]
    }
   ],
   "source": [
    "best_trial = hyperband_tuner.oracle.get_best_trials(num_trials=1)[0]\n",
    "best_trial.summary()\n"
   ]
  },
  {
   "cell_type": "code",
   "execution_count": 70,
   "id": "QqHCRP8JXxJu",
   "metadata": {
    "id": "QqHCRP8JXxJu"
   },
   "outputs": [],
   "source": [
    "top3_models = hyperband_tuner.get_best_models(num_models=3)\n",
    "best_model = top3_models[0]"
   ]
  },
  {
   "cell_type": "code",
   "execution_count": 79,
   "id": "J5J2bsMCXtH5",
   "metadata": {
    "colab": {
     "base_uri": "https://localhost:8080/"
    },
    "id": "J5J2bsMCXtH5",
    "outputId": "8e89361a-56c9-4399-f281-fb3afd69253a"
   },
   "outputs": [
    {
     "name": "stdout",
     "output_type": "stream",
     "text": [
      "Epoch 1/30\n",
      "1875/1875 [==============================] - 4s 2ms/step - loss: 0.1803 - accuracy: 0.9316\n",
      "Epoch 2/30\n",
      "1875/1875 [==============================] - 4s 2ms/step - loss: 0.1780 - accuracy: 0.9327\n",
      "Epoch 3/30\n",
      "1875/1875 [==============================] - 4s 2ms/step - loss: 0.1758 - accuracy: 0.9337\n",
      "Epoch 4/30\n",
      "1875/1875 [==============================] - 4s 2ms/step - loss: 0.1758 - accuracy: 0.9338\n",
      "Epoch 5/30\n",
      "1875/1875 [==============================] - 4s 2ms/step - loss: 0.1713 - accuracy: 0.9342\n",
      "Epoch 6/30\n",
      "1875/1875 [==============================] - 4s 2ms/step - loss: 0.1719 - accuracy: 0.9362\n",
      "Epoch 7/30\n",
      "1875/1875 [==============================] - 4s 2ms/step - loss: 0.1654 - accuracy: 0.9362\n",
      "Epoch 8/30\n",
      "1875/1875 [==============================] - 4s 2ms/step - loss: 0.1743 - accuracy: 0.9344\n",
      "Epoch 9/30\n",
      "1875/1875 [==============================] - 4s 2ms/step - loss: 0.1709 - accuracy: 0.9363\n",
      "Epoch 10/30\n",
      "1875/1875 [==============================] - 4s 2ms/step - loss: 0.1673 - accuracy: 0.9374\n",
      "Epoch 11/30\n",
      "1875/1875 [==============================] - 4s 2ms/step - loss: 0.1633 - accuracy: 0.9383\n",
      "Epoch 12/30\n",
      "1875/1875 [==============================] - 4s 2ms/step - loss: 0.1576 - accuracy: 0.9402\n",
      "Epoch 13/30\n",
      "1875/1875 [==============================] - 4s 2ms/step - loss: 0.1604 - accuracy: 0.9398\n",
      "Epoch 14/30\n",
      "1875/1875 [==============================] - 4s 2ms/step - loss: 0.1668 - accuracy: 0.9387\n",
      "Epoch 15/30\n",
      "1875/1875 [==============================] - 5s 2ms/step - loss: 0.1561 - accuracy: 0.9398\n",
      "Epoch 16/30\n",
      "1875/1875 [==============================] - 4s 2ms/step - loss: 0.1558 - accuracy: 0.9406\n",
      "Epoch 17/30\n",
      "1875/1875 [==============================] - 4s 2ms/step - loss: 0.1555 - accuracy: 0.9422\n",
      "Epoch 18/30\n",
      "1875/1875 [==============================] - 4s 2ms/step - loss: 0.1493 - accuracy: 0.9432\n",
      "Epoch 19/30\n",
      "1875/1875 [==============================] - 4s 2ms/step - loss: 0.1482 - accuracy: 0.9436\n",
      "Epoch 20/30\n",
      "1875/1875 [==============================] - 4s 2ms/step - loss: 0.1653 - accuracy: 0.9401\n",
      "Epoch 21/30\n",
      "1875/1875 [==============================] - 5s 2ms/step - loss: 0.1433 - accuracy: 0.9449\n",
      "Epoch 22/30\n",
      "1875/1875 [==============================] - 5s 2ms/step - loss: 0.1490 - accuracy: 0.9442\n",
      "Epoch 23/30\n",
      "1875/1875 [==============================] - 4s 2ms/step - loss: 0.1551 - accuracy: 0.9446\n",
      "Epoch 24/30\n",
      "1875/1875 [==============================] - 4s 2ms/step - loss: 0.1444 - accuracy: 0.9446\n",
      "Epoch 25/30\n",
      "1875/1875 [==============================] - 5s 2ms/step - loss: 0.1413 - accuracy: 0.9463\n",
      "Epoch 26/30\n",
      "1875/1875 [==============================] - 4s 2ms/step - loss: 0.1477 - accuracy: 0.9454\n",
      "Epoch 27/30\n",
      "1875/1875 [==============================] - 4s 2ms/step - loss: 0.1393 - accuracy: 0.9484\n",
      "Epoch 28/30\n",
      "1875/1875 [==============================] - 4s 2ms/step - loss: 0.1461 - accuracy: 0.9446\n",
      "Epoch 29/30\n",
      "1875/1875 [==============================] - 4s 2ms/step - loss: 0.1376 - accuracy: 0.9485\n",
      "Epoch 30/30\n",
      "1875/1875 [==============================] - 4s 2ms/step - loss: 0.1407 - accuracy: 0.9468\n"
     ]
    },
    {
     "data": {
      "text/plain": [
       "<keras.src.callbacks.History at 0x25e42b910d0>"
      ]
     },
     "execution_count": 79,
     "metadata": {},
     "output_type": "execute_result"
    }
   ],
   "source": [
    "best_model.fit(X_train_full, y_train_full, epochs=30)"
   ]
  },
  {
   "cell_type": "code",
   "execution_count": 80,
   "id": "6FEn9LvRXtJp",
   "metadata": {
    "colab": {
     "base_uri": "https://localhost:8080/"
    },
    "id": "6FEn9LvRXtJp",
    "outputId": "8d9cb788-7a62-4d46-a64d-83a0012a21ac"
   },
   "outputs": [
    {
     "name": "stdout",
     "output_type": "stream",
     "text": [
      "10000/10000 [==============================] - 12s 1ms/step - loss: 0.6416 - accuracy: 0.8874\n"
     ]
    }
   ],
   "source": [
    "test_loss, test_accuracy = best_model.evaluate(X_test, y_test , batch_size = 1)"
   ]
  },
  {
   "cell_type": "code",
   "execution_count": 81,
   "id": "a1a1d64f",
   "metadata": {},
   "outputs": [
    {
     "name": "stdout",
     "output_type": "stream",
     "text": [
      "\u001b[34mThe final accuracy: 88.74 %\n"
     ]
    }
   ],
   "source": [
    "print(Fore.BLUE + 'The final accuracy: ' + str(0.8874*100) + ' %')"
   ]
  }
 ],
 "metadata": {
  "colab": {
   "provenance": [],
   "toc_visible": true
  },
  "kernelspec": {
   "display_name": "Python 3 (ipykernel)",
   "language": "python",
   "name": "python3"
  },
  "language_info": {
   "codemirror_mode": {
    "name": "ipython",
    "version": 3
   },
   "file_extension": ".py",
   "mimetype": "text/x-python",
   "name": "python",
   "nbconvert_exporter": "python",
   "pygments_lexer": "ipython3",
   "version": "3.11.5"
  }
 },
 "nbformat": 4,
 "nbformat_minor": 5
}
